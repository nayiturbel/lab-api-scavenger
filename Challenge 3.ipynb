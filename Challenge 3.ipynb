{
 "cells": [
  {
   "cell_type": "code",
   "execution_count": 1,
   "metadata": {},
   "outputs": [],
   "source": [
    "from github import Github\n",
    "# Hidden Cold Joke \n",
    "# 1 Crear token para acceder\n",
    "#Autenticar con un access token\n",
    "g = Github('3ddc56ae6fd0075b786a69a39d3b5af8d88a0156')"
   ]
  },
  {
   "cell_type": "code",
   "execution_count": 2,
   "metadata": {},
   "outputs": [],
   "source": [
    "repo = g.get_repo('ironhack-datalabs/scavenger')"
   ]
  },
  {
   "cell_type": "code",
   "execution_count": 3,
   "metadata": {},
   "outputs": [],
   "source": [
    "contents = repo.get_contents('') #para adquirir el contenido - las carpetas "
   ]
  },
  {
   "cell_type": "code",
   "execution_count": 4,
   "metadata": {},
   "outputs": [
    {
     "ename": "NameError",
     "evalue": "name 'content' is not defined",
     "output_type": "error",
     "traceback": [
      "\u001b[0;31m---------------------------------------------------------------------------\u001b[0m",
      "\u001b[0;31mNameError\u001b[0m                                 Traceback (most recent call last)",
      "\u001b[0;32m<ipython-input-4-7fe70820e08a>\u001b[0m in \u001b[0;36m<module>\u001b[0;34m\u001b[0m\n\u001b[0;32m----> 1\u001b[0;31m \u001b[0mcontent\u001b[0m\u001b[0;34m\u001b[0m\u001b[0;34m\u001b[0m\u001b[0m\n\u001b[0m",
      "\u001b[0;31mNameError\u001b[0m: name 'content' is not defined"
     ]
    }
   ],
   "source": [
    "content"
   ]
  },
  {
   "cell_type": "code",
   "execution_count": 5,
   "metadata": {},
   "outputs": [],
   "source": [
    "paths = list()\n",
    "\n",
    "for contenido in contents:\n",
    "    if contenido.path != '.gitignore':\n",
    "        carpeta = repo.get_contents(contenido.path)\n",
    "        for elemento in carpeta:\n",
    "            if elemento.path.endswith('.scavengerhunt'):\n",
    "                paths.append(elemento)"
   ]
  },
  {
   "cell_type": "code",
   "execution_count": 6,
   "metadata": {},
   "outputs": [
    {
     "data": {
      "text/plain": [
       "[ContentFile(path=\"15024/.0006.scavengerhunt\"),\n",
       " ContentFile(path=\"15534/.0008.scavengerhunt\"),\n",
       " ContentFile(path=\"15534/.0012.scavengerhunt\"),\n",
       " ContentFile(path=\"17020/.0007.scavengerhunt\"),\n",
       " ContentFile(path=\"30351/.0021.scavengerhunt\"),\n",
       " ContentFile(path=\"40303/.0022.scavengerhunt\"),\n",
       " ContentFile(path=\"44639/.0005.scavengerhunt\"),\n",
       " ContentFile(path=\"45525/.0018.scavengerhunt\"),\n",
       " ContentFile(path=\"47222/.0016.scavengerhunt\"),\n",
       " ContentFile(path=\"47222/.0024.scavengerhunt\"),\n",
       " ContentFile(path=\"47830/.0010.scavengerhunt\"),\n",
       " ContentFile(path=\"49418/.0014.scavengerhunt\"),\n",
       " ContentFile(path=\"50896/.0011.scavengerhunt\"),\n",
       " ContentFile(path=\"55417/.0023.scavengerhunt\"),\n",
       " ContentFile(path=\"55685/.0020.scavengerhunt\"),\n",
       " ContentFile(path=\"60224/.0003.scavengerhunt\"),\n",
       " ContentFile(path=\"68848/.0004.scavengerhunt\"),\n",
       " ContentFile(path=\"70751/.0019.scavengerhunt\"),\n",
       " ContentFile(path=\"70985/.0017.scavengerhunt\"),\n",
       " ContentFile(path=\"88596/.0002.scavengerhunt\"),\n",
       " ContentFile(path=\"89338/.0013.scavengerhunt\"),\n",
       " ContentFile(path=\"91701/.0015.scavengerhunt\"),\n",
       " ContentFile(path=\"97881/.0009.scavengerhunt\"),\n",
       " ContentFile(path=\"98750/.0001.scavengerhunt\")]"
      ]
     },
     "execution_count": 6,
     "metadata": {},
     "output_type": "execute_result"
    }
   ],
   "source": [
    "paths"
   ]
  },
  {
   "cell_type": "code",
   "execution_count": 13,
   "metadata": {},
   "outputs": [
    {
     "ename": "AttributeError",
     "evalue": "'list' object has no attribute 'sorted'",
     "output_type": "error",
     "traceback": [
      "\u001b[0;31m---------------------------------------------------------------------------\u001b[0m",
      "\u001b[0;31mAttributeError\u001b[0m                            Traceback (most recent call last)",
      "\u001b[0;32m<ipython-input-13-2ca951cae153>\u001b[0m in \u001b[0;36m<module>\u001b[0;34m\u001b[0m\n\u001b[1;32m      1\u001b[0m \u001b[0;32mimport\u001b[0m \u001b[0mre\u001b[0m\u001b[0;34m\u001b[0m\u001b[0;34m\u001b[0m\u001b[0m\n\u001b[1;32m      2\u001b[0m \u001b[0;34m\u001b[0m\u001b[0m\n\u001b[0;32m----> 3\u001b[0;31m \u001b[0mpaths\u001b[0m\u001b[0;34m.\u001b[0m\u001b[0msorted\u001b[0m\u001b[0;34m(\u001b[0m\u001b[0mkey\u001b[0m\u001b[0;34m=\u001b[0m\u001b[0;32mlambda\u001b[0m \u001b[0mx\u001b[0m\u001b[0;34m:\u001b[0m \u001b[0mre\u001b[0m\u001b[0;34m.\u001b[0m\u001b[0mfindall\u001b[0m\u001b[0;34m(\u001b[0m\u001b[0;34m'\\..*'\u001b[0m\u001b[0;34m,\u001b[0m \u001b[0mx\u001b[0m\u001b[0;34m)\u001b[0m\u001b[0;34m)\u001b[0m\u001b[0;34m\u001b[0m\u001b[0;34m\u001b[0m\u001b[0m\n\u001b[0m",
      "\u001b[0;31mAttributeError\u001b[0m: 'list' object has no attribute 'sorted'"
     ]
    }
   ],
   "source": [
    "import re\n",
    "\n",
    "paths.sorted(key=lambda x: re.findall('\\..*', x))"
   ]
  },
  {
   "cell_type": "code",
   "execution_count": null,
   "metadata": {},
   "outputs": [],
   "source": [
    "for rura in paths:\n",
    "    contenido = repo.get_contents(ruta)\n",
    "    contenid.decoded_content"
   ]
  },
  {
   "cell_type": "code",
   "execution_count": null,
   "metadata": {},
   "outputs": [],
   "source": [
    "content = repo.get_contents(paths[0])"
   ]
  },
  {
   "cell_type": "code",
   "execution_count": null,
   "metadata": {},
   "outputs": [],
   "source": [
    "content.decoded_content"
   ]
  },
  {
   "cell_type": "code",
   "execution_count": 9,
   "metadata": {},
   "outputs": [
    {
     "data": {
      "text/plain": [
       "[ContentFile(path=\"15024/.0006.scavengerhunt\"),\n",
       " ContentFile(path=\"15024/40\"),\n",
       " ContentFile(path=\"15024/74\"),\n",
       " ContentFile(path=\"15024/99\")]"
      ]
     },
     "execution_count": 9,
     "metadata": {},
     "output_type": "execute_result"
    }
   ],
   "source": [
    "prueba"
   ]
  },
  {
   "cell_type": "code",
   "execution_count": 11,
   "metadata": {},
   "outputs": [
    {
     "name": "stdout",
     "output_type": "stream",
     "text": [
      "ContentFile(path=\"15024/.0006.scavengerhunt\")\n"
     ]
    }
   ],
   "source": [
    "for elemento in prueba:\n",
    "    if elemento.path.endswith('.scavengerhunt'):\n",
    "        print(elemento)"
   ]
  },
  {
   "cell_type": "code",
   "execution_count": null,
   "metadata": {},
   "outputs": [],
   "source": []
  }
 ],
 "metadata": {
  "kernelspec": {
   "display_name": "Python 3",
   "language": "python",
   "name": "python3"
  },
  "language_info": {
   "codemirror_mode": {
    "name": "ipython",
    "version": 3
   },
   "file_extension": ".py",
   "mimetype": "text/x-python",
   "name": "python",
   "nbconvert_exporter": "python",
   "pygments_lexer": "ipython3",
   "version": "3.8.5"
  }
 },
 "nbformat": 4,
 "nbformat_minor": 4
}
